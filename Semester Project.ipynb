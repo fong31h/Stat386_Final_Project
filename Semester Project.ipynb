{
 "cells": [
  {
   "cell_type": "code",
   "execution_count": 3,
   "id": "35ca6b2f",
   "metadata": {},
   "outputs": [],
   "source": [
    "import requests\n",
    "import json\n",
    "import pandas as pd\n",
    "import numpy as np"
   ]
  },
  {
   "cell_type": "code",
   "execution_count": 6,
   "id": "ba3c8f27",
   "metadata": {},
   "outputs": [],
   "source": [
    "musickey = '85b3bdb8bd0645e5b070b58deb055d27' #apikey"
   ]
  },
  {
   "cell_type": "code",
   "execution_count": 7,
   "id": "309fdd8f",
   "metadata": {},
   "outputs": [],
   "source": [
    "# testing to see functionality\n",
    "musicurl = f'https://ws.audioscrobbler.com/2.0/?method=album.getinfo&api_key={musickey}&artist=Cher&album=Believe&format=json'\n",
    "ff = f'https://ws.audioscrobbler.com/2.0/?method=artist.gettopalbums&artist=cher,madonna&api_key={musickey}&format=json'\n",
    "top = f'https://ws.audioscrobbler.com/2.0/?method=chart.gettopartists&api_key={musickey}&format=json'\n",
    "artist = f'https://ws.audioscrobbler.com/2.0/?method=artist.getinfo&artist=Cher&api_key={musickey}&format=json'"
   ]
  },
  {
   "cell_type": "code",
   "execution_count": 8,
   "id": "2d7b1ad9",
   "metadata": {},
   "outputs": [],
   "source": [
    "topartists1 = json.loads(requests.get(top).text) # get list of fifty top artists"
   ]
  },
  {
   "cell_type": "code",
   "execution_count": 9,
   "id": "1a9935f9",
   "metadata": {},
   "outputs": [],
   "source": [
    "top2 = f'https://ws.audioscrobbler.com/2.0/?method=chart.gettopartists&api_key={musickey}&page=2&format=json'\n",
    "topartists2 = json.loads(requests.get(top2).text)\n",
    "#topartists2 #get fifty more top artists"
   ]
  },
  {
   "cell_type": "code",
   "execution_count": 10,
   "id": "67523cf7",
   "metadata": {},
   "outputs": [],
   "source": [
    "top3 = f'https://ws.audioscrobbler.com/2.0/?method=chart.gettopartists&api_key={musickey}&page=3&format=json'\n",
    "topartists3 = json.loads(requests.get(top3).text)\n",
    "#topartists3 # get fifty more top artists"
   ]
  },
  {
   "cell_type": "code",
   "execution_count": 11,
   "id": "b4d33b31",
   "metadata": {},
   "outputs": [],
   "source": [
    "top4 = f'https://ws.audioscrobbler.com/2.0/?method=chart.gettopartists&api_key={musickey}&page=4&format=json'\n",
    "topartists4 = json.loads(requests.get(top4).text)\n",
    "#topartists4 # get fifty more top artists"
   ]
  },
  {
   "cell_type": "code",
   "execution_count": 12,
   "id": "7099f6a3",
   "metadata": {},
   "outputs": [],
   "source": [
    "top5 = f'https://ws.audioscrobbler.com/2.0/?method=chart.gettopartists&api_key={musickey}&page=5&format=json'\n",
    "topartists5 = json.loads(requests.get(top5).text)\n",
    "#topartists5 # get fifty more top artists"
   ]
  },
  {
   "cell_type": "code",
   "execution_count": 13,
   "id": "f8bb75ab",
   "metadata": {},
   "outputs": [],
   "source": [
    "topartists1['artists']['artist'][0] # figuring out data structure\n",
    "tal1 = [entry['name'] for entry in topartists1['artists']['artist']] # pull out names of each set of fifty artists\n",
    "tal2 = [entry['name'] for entry in topartists2['artists']['artist']]\n",
    "tal3 = [entry['name'] for entry in topartists3['artists']['artist']]\n",
    "tal4 = [entry['name'] for entry in topartists4['artists']['artist']]\n",
    "tal5 = [entry['name'] for entry in topartists5['artists']['artist']]\n",
    "artist_list = tal1 + tal2 + tal3 + tal4 + tal5 # append lists of names together\n",
    "#artist_list"
   ]
  },
  {
   "cell_type": "code",
   "execution_count": 14,
   "id": "a4b16b40",
   "metadata": {},
   "outputs": [],
   "source": [
    "all_info = [] # initialize empty list to fill with artist info\n",
    "for artist in artist_list:\n",
    "    url = f'https://ws.audioscrobbler.com/2.0/?method=artist.getinfo&artist={artist}&api_key={musickey}&format=json'\n",
    "    all_info.append(json.loads(requests.get(url).text)) # make a artist info request with each name in artist_list\n",
    "    # and append to all_info\n",
    "#all_info"
   ]
  },
  {
   "cell_type": "code",
   "execution_count": 15,
   "id": "253bff1e",
   "metadata": {},
   "outputs": [],
   "source": [
    "# extract playcounts for each artist\n",
    "all_info[0]['artist']['stats']['playcount'] # figuring out structure of data\n",
    "playcounts = [entry['artist']['stats']['playcount'] for entry in all_info]"
   ]
  },
  {
   "cell_type": "code",
   "execution_count": 16,
   "id": "ea9611b9",
   "metadata": {},
   "outputs": [],
   "source": [
    "# extract listeners for each artist\n",
    "listeners = [entry['artist']['stats']['listeners'] for entry in all_info]"
   ]
  },
  {
   "cell_type": "code",
   "execution_count": 17,
   "id": "3dad0ccf",
   "metadata": {
    "scrolled": false
   },
   "outputs": [
    {
     "data": {
      "text/html": [
       "<div>\n",
       "<style scoped>\n",
       "    .dataframe tbody tr th:only-of-type {\n",
       "        vertical-align: middle;\n",
       "    }\n",
       "\n",
       "    .dataframe tbody tr th {\n",
       "        vertical-align: top;\n",
       "    }\n",
       "\n",
       "    .dataframe thead th {\n",
       "        text-align: right;\n",
       "    }\n",
       "</style>\n",
       "<table border=\"1\" class=\"dataframe\">\n",
       "  <thead>\n",
       "    <tr style=\"text-align: right;\">\n",
       "      <th></th>\n",
       "      <th>name</th>\n",
       "      <th>ontour</th>\n",
       "      <th>tags</th>\n",
       "      <th>playcount</th>\n",
       "      <th>listeners</th>\n",
       "    </tr>\n",
       "  </thead>\n",
       "  <tbody>\n",
       "    <tr>\n",
       "      <th>0</th>\n",
       "      <td>Taylor Swift</td>\n",
       "      <td>1</td>\n",
       "      <td>[country, pop, female vocalists, singer-songwr...</td>\n",
       "      <td>1832552328</td>\n",
       "      <td>4325842</td>\n",
       "    </tr>\n",
       "    <tr>\n",
       "      <th>50</th>\n",
       "      <td>Taylor Swift</td>\n",
       "      <td>1</td>\n",
       "      <td>[country, pop, female vocalists, singer-songwr...</td>\n",
       "      <td>1835951215</td>\n",
       "      <td>4327718</td>\n",
       "    </tr>\n",
       "  </tbody>\n",
       "</table>\n",
       "</div>"
      ],
      "text/plain": [
       "            name ontour                                               tags  \\\n",
       "0   Taylor Swift      1  [country, pop, female vocalists, singer-songwr...   \n",
       "50  Taylor Swift      1  [country, pop, female vocalists, singer-songwr...   \n",
       "\n",
       "     playcount listeners  \n",
       "0   1832552328   4325842  \n",
       "50  1835951215   4327718  "
      ]
     },
     "execution_count": 17,
     "metadata": {},
     "output_type": "execute_result"
    }
   ],
   "source": [
    "# extract genres for each artist\n",
    "#ts = list(all_info[0]['artist'].values())\n",
    "#new_attempt = [[list(entry['artist'].values())[i] for i in [0,8]] for entry in all_info]\n",
    "#print(type(new_attempt[0][1]))\n",
    "#print(new_attempt)\n",
    "#[list(entry['artist'].values())[i] for i in [0,8] for sublist in all_info for entry in sublist]\n",
    "#genrespt1 = [entry['artist']['tags']['tag'] for entry in all_info]\n",
    "#genrespt1 = [entry['artist'][['name','tags']] for entry in all_info]\n",
    "#print(genrespt1)\n",
    "#print(genrespt1[0][0])\n",
    "#[entry['name'] for sublist in genrespt1 for entry in sublist]\n",
    "#[entry[1] for entry in new_attempt]\n",
    "#genrespt1\n",
    "\n",
    "#entry['artist'][i] for i in ['name','tags'] for entry in all_info]\n",
    "\n",
    "\n",
    "#for i in range(len(genrecrap)):\n",
    "#    print(i, len(genrecrap[i]) >= 3)\n",
    "# 168, 133, 57\n",
    "#genrecrap[168]\n",
    "prelimdf = pd.DataFrame([entry['artist'] for entry in all_info])\n",
    "prelimdf.drop(columns=['mbid','url','image','streamable','stats','similar','bio'],inplace=True)\n",
    "prelimdf['playcount'] = playcounts\n",
    "prelimdf['listeners'] = listeners\n",
    "genrecrap = prelimdf['tags']\n",
    "for i in range(len(genrecrap)):\n",
    "    genrecrap[i] = genrecrap[i]['tag']\n",
    "for i in range(len(genrecrap)):\n",
    "    genrecrap[i] = [entry['name'] for entry in genrecrap[i]]\n",
    "prelimdf[prelimdf['name'] == 'Taylor Swift']"
   ]
  },
  {
   "cell_type": "code",
   "execution_count": 18,
   "id": "97037571",
   "metadata": {},
   "outputs": [],
   "source": [
    "prelimdf = pd.DataFrame([entry['artist'] for entry in all_info])\n",
    "prelimdf.drop(columns=['mbid','url','image','streamable','stats','similar','bio'],inplace=True)\n",
    "prelimdf['playcount'] = playcounts\n",
    "prelimdf['listeners'] = listeners\n",
    "genrecrap = prelimdf['tags']\n",
    "for i in range(len(genrecrap)):\n",
    "    genrecrap[i] = genrecrap[i]['tag']\n",
    "for i in range(len(genrecrap)):\n",
    "    genrecrap[i] = [entry['name'] for entry in genrecrap[i]]\n",
    "uniquegenre = []\n",
    "for i in range(len(genrecrap)):\n",
    "    for j in range(len(genrecrap[i])):\n",
    "        if genrecrap[i][j] not in uniquegenre:\n",
    "            uniquegenre.append(genrecrap[i][j])\n",
    "to_remove = ['Canadian','seen live','compton','ofwgkta','r&b','australian','britpop','female vocalists',\n",
    "                   'swag','female vocalist','slow jams','UK Garage','2-step','Korean','black metal',\n",
    "                    'Eminem','pittsburgh','New Zealand','slowcore','hip hop','Kpop',\n",
    "                   'better than selena gomez','jay-z','legend','Brent Faiyaz',\n",
    "                   'Sophisti-Pop','one direction','X factor','spanish','Dirty South','ten million plays',\n",
    "                   'mf doom','plugg','rage','Mariah Carey','guilty pleasure','downtempo','new york','opium',\n",
    "                   'dnb','Horrorcore','sexy','noise','shoegazer','florida','United States',\n",
    "                   'thicc','idm','Minnesota','miami','chicago','soprano sax','glam','atlanta','drone rock']\n",
    "goodgenres = [item for item in uniquegenre if item not in to_remove]\n",
    "for i in range(len(genrecrap)):\n",
    "    genrecrap[i] = [entry for entry in genrecrap[i] if entry not in to_remove]\n",
    "for entry in genrecrap:\n",
    "    while len(entry) < 3:\n",
    "        entry.append('NA')\n",
    "prelimdf['genre1'] = [entry[0] for entry in genrecrap]\n",
    "prelimdf['genre2'] = [entry[1] for entry in genrecrap]\n",
    "prelimdf['genre3'] = [entry[2] for entry in genrecrap]\n",
    "# standardizing genre spelling\n",
    "#print(len(prelimdf['genre1'].unique()))\n",
    "#print(prelimdf['genre1'].unique())\n",
    "prelimdf['genre1'] = prelimdf['genre1'].str.lower().str.replace('-',' ')\n",
    "#print(len(prelimdf['genre1'].unique()))\n",
    "#print(prelimdf['genre1'].unique())\n",
    "#print(len(prelimdf['genre2'].unique()))\n",
    "#print(prelimdf['genre2'].unique())\n",
    "prelimdf['genre2'] = prelimdf['genre2'].str.lower().str.replace('-',' ').str.replace('kpop','k pop') \\\n",
    ".str.replace('&', 'n')\n",
    "#print(len(prelimdf['genre2'].unique()))\n",
    "#print(prelimdf['genre2'].unique())\n",
    "#print(len(prelimdf['genre3'].unique()))\n",
    "#print(prelimdf['genre3'].unique())\n",
    "prelimdf['genre3'] = prelimdf['genre3'].str.lower().str.replace('-',' ').str.replace('kpop','k pop') \\\n",
    ".str.replace('&', 'n')\n",
    "#print(len(prelimdf['genre3'].unique()))\n",
    "#print(prelimdf['genre3'].unique())\n",
    "prelimdf.drop(columns='tags',inplace=True)"
   ]
  },
  {
   "cell_type": "code",
   "execution_count": 19,
   "id": "929905b7",
   "metadata": {
    "scrolled": true
   },
   "outputs": [
    {
     "data": {
      "text/html": [
       "<div>\n",
       "<style scoped>\n",
       "    .dataframe tbody tr th:only-of-type {\n",
       "        vertical-align: middle;\n",
       "    }\n",
       "\n",
       "    .dataframe tbody tr th {\n",
       "        vertical-align: top;\n",
       "    }\n",
       "\n",
       "    .dataframe thead th {\n",
       "        text-align: right;\n",
       "    }\n",
       "</style>\n",
       "<table border=\"1\" class=\"dataframe\">\n",
       "  <thead>\n",
       "    <tr style=\"text-align: right;\">\n",
       "      <th></th>\n",
       "      <th>name</th>\n",
       "      <th>ontour</th>\n",
       "      <th>playcount</th>\n",
       "      <th>listeners</th>\n",
       "      <th>genre1</th>\n",
       "      <th>genre2</th>\n",
       "      <th>genre3</th>\n",
       "    </tr>\n",
       "  </thead>\n",
       "  <tbody>\n",
       "    <tr>\n",
       "      <th>0</th>\n",
       "      <td>Taylor Swift</td>\n",
       "      <td>1</td>\n",
       "      <td>1832552328</td>\n",
       "      <td>4325842</td>\n",
       "      <td>country</td>\n",
       "      <td>pop</td>\n",
       "      <td>singer songwriter</td>\n",
       "    </tr>\n",
       "    <tr>\n",
       "      <th>1</th>\n",
       "      <td>The Weeknd</td>\n",
       "      <td>0</td>\n",
       "      <td>553521894</td>\n",
       "      <td>3595509</td>\n",
       "      <td>rnb</td>\n",
       "      <td>electronic</td>\n",
       "      <td>dubstep</td>\n",
       "    </tr>\n",
       "    <tr>\n",
       "      <th>2</th>\n",
       "      <td>Kanye West</td>\n",
       "      <td>0</td>\n",
       "      <td>868686321</td>\n",
       "      <td>6287553</td>\n",
       "      <td>hip hop</td>\n",
       "      <td>rap</td>\n",
       "      <td>rnb</td>\n",
       "    </tr>\n",
       "    <tr>\n",
       "      <th>3</th>\n",
       "      <td>Drake</td>\n",
       "      <td>1</td>\n",
       "      <td>572925666</td>\n",
       "      <td>5243662</td>\n",
       "      <td>hip hop</td>\n",
       "      <td>rap</td>\n",
       "      <td>rnb</td>\n",
       "    </tr>\n",
       "    <tr>\n",
       "      <th>4</th>\n",
       "      <td>Lana Del Rey</td>\n",
       "      <td>0</td>\n",
       "      <td>785683560</td>\n",
       "      <td>3730745</td>\n",
       "      <td>indie</td>\n",
       "      <td>indie pop</td>\n",
       "      <td>pop</td>\n",
       "    </tr>\n",
       "    <tr>\n",
       "      <th>...</th>\n",
       "      <td>...</td>\n",
       "      <td>...</td>\n",
       "      <td>...</td>\n",
       "      <td>...</td>\n",
       "      <td>...</td>\n",
       "      <td>...</td>\n",
       "      <td>...</td>\n",
       "    </tr>\n",
       "    <tr>\n",
       "      <th>295</th>\n",
       "      <td>Cardi B</td>\n",
       "      <td>0</td>\n",
       "      <td>45828265</td>\n",
       "      <td>1528407</td>\n",
       "      <td>hip hop</td>\n",
       "      <td>rap</td>\n",
       "      <td>trap</td>\n",
       "    </tr>\n",
       "    <tr>\n",
       "      <th>296</th>\n",
       "      <td>Crystal Castles</td>\n",
       "      <td>0</td>\n",
       "      <td>147130008</td>\n",
       "      <td>2239219</td>\n",
       "      <td>electronic</td>\n",
       "      <td>8 bit</td>\n",
       "      <td>new rave</td>\n",
       "    </tr>\n",
       "    <tr>\n",
       "      <th>297</th>\n",
       "      <td>LUCKI</td>\n",
       "      <td>0</td>\n",
       "      <td>101134777</td>\n",
       "      <td>553861</td>\n",
       "      <td>trap</td>\n",
       "      <td>hip hop</td>\n",
       "      <td>rap</td>\n",
       "    </tr>\n",
       "    <tr>\n",
       "      <th>298</th>\n",
       "      <td>Wham!</td>\n",
       "      <td>0</td>\n",
       "      <td>22445365</td>\n",
       "      <td>2176097</td>\n",
       "      <td>80s</td>\n",
       "      <td>pop</td>\n",
       "      <td>british</td>\n",
       "    </tr>\n",
       "    <tr>\n",
       "      <th>299</th>\n",
       "      <td>Pierce The Veil</td>\n",
       "      <td>0</td>\n",
       "      <td>79993095</td>\n",
       "      <td>1119052</td>\n",
       "      <td>post hardcore</td>\n",
       "      <td>emocore</td>\n",
       "      <td>emo</td>\n",
       "    </tr>\n",
       "  </tbody>\n",
       "</table>\n",
       "<p>300 rows × 7 columns</p>\n",
       "</div>"
      ],
      "text/plain": [
       "                name ontour   playcount listeners         genre1      genre2  \\\n",
       "0       Taylor Swift      1  1832552328   4325842        country         pop   \n",
       "1         The Weeknd      0   553521894   3595509            rnb  electronic   \n",
       "2         Kanye West      0   868686321   6287553        hip hop         rap   \n",
       "3              Drake      1   572925666   5243662        hip hop         rap   \n",
       "4       Lana Del Rey      0   785683560   3730745          indie   indie pop   \n",
       "..               ...    ...         ...       ...            ...         ...   \n",
       "295          Cardi B      0    45828265   1528407        hip hop         rap   \n",
       "296  Crystal Castles      0   147130008   2239219     electronic       8 bit   \n",
       "297            LUCKI      0   101134777    553861           trap     hip hop   \n",
       "298            Wham!      0    22445365   2176097            80s         pop   \n",
       "299  Pierce The Veil      0    79993095   1119052  post hardcore     emocore   \n",
       "\n",
       "                genre3  \n",
       "0    singer songwriter  \n",
       "1              dubstep  \n",
       "2                  rnb  \n",
       "3                  rnb  \n",
       "4                  pop  \n",
       "..                 ...  \n",
       "295               trap  \n",
       "296           new rave  \n",
       "297                rap  \n",
       "298            british  \n",
       "299                emo  \n",
       "\n",
       "[300 rows x 7 columns]"
      ]
     },
     "execution_count": 19,
     "metadata": {},
     "output_type": "execute_result"
    }
   ],
   "source": [
    "prelimdf"
   ]
  },
  {
   "cell_type": "code",
   "execution_count": 21,
   "id": "e4c7fd1e",
   "metadata": {},
   "outputs": [],
   "source": [
    "artists = prelimdf"
   ]
  },
  {
   "cell_type": "code",
   "execution_count": 22,
   "id": "a298e48d",
   "metadata": {},
   "outputs": [],
   "source": [
    "artists.to_csv('artists.csv')"
   ]
  },
  {
   "cell_type": "code",
   "execution_count": null,
   "id": "b18fc7fd",
   "metadata": {},
   "outputs": [],
   "source": [
    "name, playcount, listeners, sex, genre, age?"
   ]
  },
  {
   "cell_type": "code",
   "execution_count": 4,
   "id": "2ffced4a",
   "metadata": {},
   "outputs": [],
   "source": [
    "import matplotlib.pyplot as plt\n",
    "import seaborn as sns"
   ]
  },
  {
   "cell_type": "code",
   "execution_count": 29,
   "id": "ef423a8a",
   "metadata": {},
   "outputs": [],
   "source": [
    "popgenre = artists[(artists['genre1'] == 'pop') | (artists['genre2'] == 'pop') | (artists['genre3'] == 'pop')]\n",
    "hiphopgenre = artists[(artists['genre1'] == 'hip hop') | (artists['genre2'] == 'hip hop') | (\n",
    "    artists['genre3'] == 'hip hop')]"
   ]
  },
  {
   "cell_type": "code",
   "execution_count": 78,
   "id": "9840901c",
   "metadata": {},
   "outputs": [
    {
     "data": {
      "image/png": "[encoded data removed]",
      "text/plain": [
       "<Figure size 432x288 with 1 Axes>"
      ]
     },
     "metadata": {
      "needs_background": "light"
     },
     "output_type": "display_data"
    }
   ],
   "source": [
    "plt.hist(artists['listeners'].astype(int), bins=10);\n",
    "plt.xlabel('Number of Listeners (millions)');\n",
    "plt.ylabel('Frequency');\n",
    "plt.title('Histogram of Listeners');\n",
    "plt.savefig('listenershist.jpg')"
   ]
  },
  {
   "cell_type": "code",
   "execution_count": 10,
   "id": "74339350",
   "metadata": {},
   "outputs": [],
   "source": [
    "artists = pd.read_csv('artists.csv', delimiter=',')"
   ]
  },
  {
   "cell_type": "code",
   "execution_count": 13,
   "id": "40a8fae3",
   "metadata": {},
   "outputs": [],
   "source": [
    "artists = artists.drop(columns={'Unnamed: 0'})\n",
    "artists.to_csv"
   ]
  }
 ],
 "metadata": {
  "kernelspec": {
   "display_name": "Python 3 (ipykernel)",
   "language": "python",
   "name": "python3"
  },
  "language_info": {
   "codemirror_mode": {
    "name": "ipython",
    "version": 3
   },
   "file_extension": ".py",
   "mimetype": "text/x-python",
   "name": "python",
   "nbconvert_exporter": "python",
   "pygments_lexer": "ipython3",
   "version": "3.9.12"
  }
 },
 "nbformat": 4,
 "nbformat_minor": 5
}
